{
 "cells": [
  {
   "cell_type": "markdown",
   "metadata": {},
   "source": [
    "# Установка необходимых библиотек"
   ]
  },
  {
   "cell_type": "code",
   "execution_count": 2,
   "metadata": {},
   "outputs": [
    {
     "name": "stdout",
     "output_type": "stream",
     "text": [
      "Defaulting to user installation because normal site-packages is not writeableNote: you may need to restart the kernel to use updated packages.\n",
      "\n",
      "Requirement already satisfied: pandas in c:\\users\\pupil\\appdata\\roaming\\python\\python312\\site-packages (2.2.3)\n",
      "Requirement already satisfied: seaborn in c:\\users\\pupil\\appdata\\roaming\\python\\python312\\site-packages (0.13.2)\n",
      "Requirement already satisfied: matplotlib in c:\\users\\pupil\\appdata\\roaming\\python\\python312\\site-packages (3.10.0)\n",
      "Requirement already satisfied: ipywidgets in c:\\users\\pupil\\appdata\\roaming\\python\\python312\\site-packages (8.1.5)\n",
      "Requirement already satisfied: numpy>=1.26.0 in c:\\users\\pupil\\appdata\\roaming\\python\\python312\\site-packages (from pandas) (2.2.0)\n",
      "Requirement already satisfied: python-dateutil>=2.8.2 in c:\\users\\pupil\\appdata\\roaming\\python\\python312\\site-packages (from pandas) (2.9.0.post0)\n",
      "Requirement already satisfied: pytz>=2020.1 in c:\\users\\pupil\\appdata\\roaming\\python\\python312\\site-packages (from pandas) (2024.2)\n",
      "Requirement already satisfied: tzdata>=2022.7 in c:\\users\\pupil\\appdata\\roaming\\python\\python312\\site-packages (from pandas) (2024.2)\n",
      "Requirement already satisfied: contourpy>=1.0.1 in c:\\users\\pupil\\appdata\\roaming\\python\\python312\\site-packages (from matplotlib) (1.3.1)\n",
      "Requirement already satisfied: cycler>=0.10 in c:\\users\\pupil\\appdata\\roaming\\python\\python312\\site-packages (from matplotlib) (0.12.1)\n",
      "Requirement already satisfied: fonttools>=4.22.0 in c:\\users\\pupil\\appdata\\roaming\\python\\python312\\site-packages (from matplotlib) (4.55.3)\n",
      "Requirement already satisfied: kiwisolver>=1.3.1 in c:\\users\\pupil\\appdata\\roaming\\python\\python312\\site-packages (from matplotlib) (1.4.8)\n",
      "Requirement already satisfied: packaging>=20.0 in c:\\users\\pupil\\appdata\\roaming\\python\\python312\\site-packages (from matplotlib) (24.1)\n",
      "Requirement already satisfied: pillow>=8 in c:\\users\\pupil\\appdata\\roaming\\python\\python312\\site-packages (from matplotlib) (11.1.0)\n",
      "Requirement already satisfied: pyparsing>=2.3.1 in c:\\users\\pupil\\appdata\\roaming\\python\\python312\\site-packages (from matplotlib) (3.2.1)\n",
      "Requirement already satisfied: comm>=0.1.3 in c:\\users\\pupil\\appdata\\roaming\\python\\python312\\site-packages (from ipywidgets) (0.2.2)\n",
      "Requirement already satisfied: ipython>=6.1.0 in c:\\users\\pupil\\appdata\\roaming\\python\\python312\\site-packages (from ipywidgets) (8.28.0)\n",
      "Requirement already satisfied: traitlets>=4.3.1 in c:\\users\\pupil\\appdata\\roaming\\python\\python312\\site-packages (from ipywidgets) (5.14.3)\n",
      "Requirement already satisfied: widgetsnbextension~=4.0.12 in c:\\users\\pupil\\appdata\\roaming\\python\\python312\\site-packages (from ipywidgets) (4.0.13)\n",
      "Requirement already satisfied: jupyterlab-widgets~=3.0.12 in c:\\users\\pupil\\appdata\\roaming\\python\\python312\\site-packages (from ipywidgets) (3.0.13)\n",
      "Requirement already satisfied: decorator in c:\\users\\pupil\\appdata\\roaming\\python\\python312\\site-packages (from ipython>=6.1.0->ipywidgets) (5.1.1)\n",
      "Requirement already satisfied: jedi>=0.16 in c:\\users\\pupil\\appdata\\roaming\\python\\python312\\site-packages (from ipython>=6.1.0->ipywidgets) (0.19.1)\n",
      "Requirement already satisfied: matplotlib-inline in c:\\users\\pupil\\appdata\\roaming\\python\\python312\\site-packages (from ipython>=6.1.0->ipywidgets) (0.1.7)\n",
      "Requirement already satisfied: prompt-toolkit<3.1.0,>=3.0.41 in c:\\users\\pupil\\appdata\\roaming\\python\\python312\\site-packages (from ipython>=6.1.0->ipywidgets) (3.0.48)\n",
      "Requirement already satisfied: pygments>=2.4.0 in c:\\users\\pupil\\appdata\\roaming\\python\\python312\\site-packages (from ipython>=6.1.0->ipywidgets) (2.18.0)\n",
      "Requirement already satisfied: stack-data in c:\\users\\pupil\\appdata\\roaming\\python\\python312\\site-packages (from ipython>=6.1.0->ipywidgets) (0.6.3)\n",
      "Requirement already satisfied: colorama in c:\\users\\pupil\\appdata\\roaming\\python\\python312\\site-packages (from ipython>=6.1.0->ipywidgets) (0.4.6)\n",
      "Requirement already satisfied: six>=1.5 in c:\\users\\pupil\\appdata\\roaming\\python\\python312\\site-packages (from python-dateutil>=2.8.2->pandas) (1.16.0)\n",
      "Requirement already satisfied: parso<0.9.0,>=0.8.3 in c:\\users\\pupil\\appdata\\roaming\\python\\python312\\site-packages (from jedi>=0.16->ipython>=6.1.0->ipywidgets) (0.8.4)\n",
      "Requirement already satisfied: wcwidth in c:\\users\\pupil\\appdata\\roaming\\python\\python312\\site-packages (from prompt-toolkit<3.1.0,>=3.0.41->ipython>=6.1.0->ipywidgets) (0.2.13)\n",
      "Requirement already satisfied: executing>=1.2.0 in c:\\users\\pupil\\appdata\\roaming\\python\\python312\\site-packages (from stack-data->ipython>=6.1.0->ipywidgets) (2.1.0)\n",
      "Requirement already satisfied: asttokens>=2.1.0 in c:\\users\\pupil\\appdata\\roaming\\python\\python312\\site-packages (from stack-data->ipython>=6.1.0->ipywidgets) (2.4.1)\n",
      "Requirement already satisfied: pure-eval in c:\\users\\pupil\\appdata\\roaming\\python\\python312\\site-packages (from stack-data->ipython>=6.1.0->ipywidgets) (0.2.3)\n"
     ]
    },
    {
     "name": "stderr",
     "output_type": "stream",
     "text": [
      "\n",
      "[notice] A new release of pip is available: 24.2 -> 24.3.1\n",
      "[notice] To update, run: python.exe -m pip install --upgrade pip\n"
     ]
    }
   ],
   "source": [
    "%pip install pandas seaborn matplotlib ipywidgets"
   ]
  },
  {
   "cell_type": "markdown",
   "metadata": {},
   "source": [
    "# Импорт библиотек"
   ]
  },
  {
   "cell_type": "code",
   "execution_count": 3,
   "metadata": {},
   "outputs": [],
   "source": [
    "import pandas as pd\n",
    "import seaborn as sns\n",
    "import matplotlib.pyplot as plt\n",
    "import datetime  # На всякий случай, если понадобится\n",
    "import ipywidgets as widgets\n",
    "\n",
    "# Настраиваем спокойную тему оформления\n",
    "sns.set_theme()"
   ]
  },
  {
   "cell_type": "markdown",
   "metadata": {},
   "source": [
    "# Загружаем и предварительно обрабатываем данные из файла vgsales-12-4-2019-short.csv\n",
    "\n",
    "Пропущенные данные заменяем на \"неизвестно\". Редкие категории в разделах Genre, Platform, Publisher, Developer группируем, объединив и переименовав из в \"Прочее\", для более приятного восприятия (если значение меньше 5).\n",
    "\n",
    "Выводим все категории и пример первых заполненных строк данных."
   ]
  },
  {
   "cell_type": "code",
   "execution_count": 4,
   "metadata": {},
   "outputs": [
    {
     "name": "stderr",
     "output_type": "stream",
     "text": [
      "C:\\Users\\pupil\\AppData\\Local\\Temp\\ipykernel_10980\\2900882353.py:3: FutureWarning: Setting an item of incompatible dtype is deprecated and will raise an error in a future version of pandas. Value 'неизвестно' has dtype incompatible with float64, please explicitly cast to a compatible dtype first.\n",
      "  data.fillna(\"неизвестно\", inplace=True)\n"
     ]
    }
   ],
   "source": [
    "data = pd.read_csv('U:/JKTV24/Group/Yanchuk/Программирование/02_Variables_Input/project/vgsales-12-4-2019-short.csv')\n",
    "\n",
    "data.fillna(\"неизвестно\", inplace=True)"
   ]
  },
  {
   "cell_type": "code",
   "execution_count": 5,
   "metadata": {},
   "outputs": [],
   "source": [
    "# Параметр порога, ниже которого редкие категории объединяются в \"Прочее\"\n",
    "THRESHOLD = 5\n",
    "\n",
    "def group_rare_categories(series, threshold=THRESHOLD):\n",
    "    \"\"\"\n",
    "    Принимает Series (например, Genre, Platform или Publisher).\n",
    "    Категории, встречающиеся реже threshold раз, переименовывает в \"Прочее\".\n",
    "    Возвращает Series с изменёнными категориями.\n",
    "    \"\"\"\n",
    "    value_counts = series.value_counts()\n",
    "    rare_categories = value_counts[value_counts < threshold].index\n",
    "    return series.apply(lambda x: \"Прочее\" if x in rare_categories else x)\n",
    "\n",
    "# Применяем функцию к выбранным столбцам\n",
    "data['Genre'] = group_rare_categories(data['Genre'], THRESHOLD)\n",
    "data['Platform'] = group_rare_categories(data['Platform'], THRESHOLD)\n",
    "data['Publisher'] = group_rare_categories(data['Publisher'], THRESHOLD)\n",
    "data['Developer'] = group_rare_categories(data['Developer'], THRESHOLD)"
   ]
  },
  {
   "cell_type": "code",
   "execution_count": 6,
   "metadata": {},
   "outputs": [
    {
     "name": "stdout",
     "output_type": "stream",
     "text": [
      "<class 'pandas.core.frame.DataFrame'>\n",
      "RangeIndex: 55792 entries, 0 to 55791\n",
      "Data columns (total 16 columns):\n",
      " #   Column         Non-Null Count  Dtype \n",
      "---  ------         --------------  ----- \n",
      " 0   Rank           55792 non-null  int64 \n",
      " 1   Name           55792 non-null  object\n",
      " 2   Genre          55792 non-null  object\n",
      " 3   ESRB_Rating    55792 non-null  object\n",
      " 4   Platform       55792 non-null  object\n",
      " 5   Publisher      55792 non-null  object\n",
      " 6   Developer      55792 non-null  object\n",
      " 7   Critic_Score   55792 non-null  object\n",
      " 8   User_Score     55792 non-null  object\n",
      " 9   Total_Shipped  55792 non-null  object\n",
      " 10  Global_Sales   55792 non-null  object\n",
      " 11  NA_Sales       55792 non-null  object\n",
      " 12  PAL_Sales      55792 non-null  object\n",
      " 13  JP_Sales       55792 non-null  object\n",
      " 14  Other_Sales    55792 non-null  object\n",
      " 15  Year           55792 non-null  object\n",
      "dtypes: int64(1), object(15)\n",
      "memory usage: 6.8+ MB\n"
     ]
    },
    {
     "data": {
      "text/html": [
       "<div>\n",
       "<style scoped>\n",
       "    .dataframe tbody tr th:only-of-type {\n",
       "        vertical-align: middle;\n",
       "    }\n",
       "\n",
       "    .dataframe tbody tr th {\n",
       "        vertical-align: top;\n",
       "    }\n",
       "\n",
       "    .dataframe thead th {\n",
       "        text-align: right;\n",
       "    }\n",
       "</style>\n",
       "<table border=\"1\" class=\"dataframe\">\n",
       "  <thead>\n",
       "    <tr style=\"text-align: right;\">\n",
       "      <th></th>\n",
       "      <th>Rank</th>\n",
       "      <th>Name</th>\n",
       "      <th>Genre</th>\n",
       "      <th>ESRB_Rating</th>\n",
       "      <th>Platform</th>\n",
       "      <th>Publisher</th>\n",
       "      <th>Developer</th>\n",
       "      <th>Critic_Score</th>\n",
       "      <th>User_Score</th>\n",
       "      <th>Total_Shipped</th>\n",
       "      <th>Global_Sales</th>\n",
       "      <th>NA_Sales</th>\n",
       "      <th>PAL_Sales</th>\n",
       "      <th>JP_Sales</th>\n",
       "      <th>Other_Sales</th>\n",
       "      <th>Year</th>\n",
       "    </tr>\n",
       "  </thead>\n",
       "  <tbody>\n",
       "    <tr>\n",
       "      <th>0</th>\n",
       "      <td>1</td>\n",
       "      <td>Wii Sports</td>\n",
       "      <td>Sports</td>\n",
       "      <td>E</td>\n",
       "      <td>Wii</td>\n",
       "      <td>Nintendo</td>\n",
       "      <td>Nintendo EAD</td>\n",
       "      <td>7.7</td>\n",
       "      <td>неизвестно</td>\n",
       "      <td>82.86</td>\n",
       "      <td>неизвестно</td>\n",
       "      <td>неизвестно</td>\n",
       "      <td>неизвестно</td>\n",
       "      <td>неизвестно</td>\n",
       "      <td>неизвестно</td>\n",
       "      <td>2006.0</td>\n",
       "    </tr>\n",
       "    <tr>\n",
       "      <th>1</th>\n",
       "      <td>2</td>\n",
       "      <td>Super Mario Bros.</td>\n",
       "      <td>Platform</td>\n",
       "      <td>неизвестно</td>\n",
       "      <td>NES</td>\n",
       "      <td>Nintendo</td>\n",
       "      <td>Nintendo EAD</td>\n",
       "      <td>10.0</td>\n",
       "      <td>неизвестно</td>\n",
       "      <td>40.24</td>\n",
       "      <td>неизвестно</td>\n",
       "      <td>неизвестно</td>\n",
       "      <td>неизвестно</td>\n",
       "      <td>неизвестно</td>\n",
       "      <td>неизвестно</td>\n",
       "      <td>1985.0</td>\n",
       "    </tr>\n",
       "    <tr>\n",
       "      <th>2</th>\n",
       "      <td>3</td>\n",
       "      <td>Mario Kart Wii</td>\n",
       "      <td>Racing</td>\n",
       "      <td>E</td>\n",
       "      <td>Wii</td>\n",
       "      <td>Nintendo</td>\n",
       "      <td>Nintendo EAD</td>\n",
       "      <td>8.2</td>\n",
       "      <td>9.1</td>\n",
       "      <td>37.14</td>\n",
       "      <td>неизвестно</td>\n",
       "      <td>неизвестно</td>\n",
       "      <td>неизвестно</td>\n",
       "      <td>неизвестно</td>\n",
       "      <td>неизвестно</td>\n",
       "      <td>2008.0</td>\n",
       "    </tr>\n",
       "    <tr>\n",
       "      <th>3</th>\n",
       "      <td>4</td>\n",
       "      <td>PlayerUnknown's Battlegrounds</td>\n",
       "      <td>Shooter</td>\n",
       "      <td>неизвестно</td>\n",
       "      <td>PC</td>\n",
       "      <td>Прочее</td>\n",
       "      <td>PUBG Corporation</td>\n",
       "      <td>неизвестно</td>\n",
       "      <td>неизвестно</td>\n",
       "      <td>36.6</td>\n",
       "      <td>неизвестно</td>\n",
       "      <td>неизвестно</td>\n",
       "      <td>неизвестно</td>\n",
       "      <td>неизвестно</td>\n",
       "      <td>неизвестно</td>\n",
       "      <td>2017.0</td>\n",
       "    </tr>\n",
       "    <tr>\n",
       "      <th>4</th>\n",
       "      <td>5</td>\n",
       "      <td>Wii Sports Resort</td>\n",
       "      <td>Sports</td>\n",
       "      <td>E</td>\n",
       "      <td>Wii</td>\n",
       "      <td>Nintendo</td>\n",
       "      <td>Nintendo EAD</td>\n",
       "      <td>8.0</td>\n",
       "      <td>8.8</td>\n",
       "      <td>33.09</td>\n",
       "      <td>неизвестно</td>\n",
       "      <td>неизвестно</td>\n",
       "      <td>неизвестно</td>\n",
       "      <td>неизвестно</td>\n",
       "      <td>неизвестно</td>\n",
       "      <td>2009.0</td>\n",
       "    </tr>\n",
       "  </tbody>\n",
       "</table>\n",
       "</div>"
      ],
      "text/plain": [
       "   Rank                           Name     Genre ESRB_Rating Platform  \\\n",
       "0     1                     Wii Sports    Sports           E      Wii   \n",
       "1     2              Super Mario Bros.  Platform  неизвестно      NES   \n",
       "2     3                 Mario Kart Wii    Racing           E      Wii   \n",
       "3     4  PlayerUnknown's Battlegrounds   Shooter  неизвестно       PC   \n",
       "4     5              Wii Sports Resort    Sports           E      Wii   \n",
       "\n",
       "  Publisher         Developer Critic_Score  User_Score Total_Shipped  \\\n",
       "0  Nintendo      Nintendo EAD          7.7  неизвестно         82.86   \n",
       "1  Nintendo      Nintendo EAD         10.0  неизвестно         40.24   \n",
       "2  Nintendo      Nintendo EAD          8.2         9.1         37.14   \n",
       "3    Прочее  PUBG Corporation   неизвестно  неизвестно          36.6   \n",
       "4  Nintendo      Nintendo EAD          8.0         8.8         33.09   \n",
       "\n",
       "  Global_Sales    NA_Sales   PAL_Sales    JP_Sales Other_Sales    Year  \n",
       "0   неизвестно  неизвестно  неизвестно  неизвестно  неизвестно  2006.0  \n",
       "1   неизвестно  неизвестно  неизвестно  неизвестно  неизвестно  1985.0  \n",
       "2   неизвестно  неизвестно  неизвестно  неизвестно  неизвестно  2008.0  \n",
       "3   неизвестно  неизвестно  неизвестно  неизвестно  неизвестно  2017.0  \n",
       "4   неизвестно  неизвестно  неизвестно  неизвестно  неизвестно  2009.0  "
      ]
     },
     "execution_count": 6,
     "metadata": {},
     "output_type": "execute_result"
    }
   ],
   "source": [
    "data.info()\n",
    "data.head()"
   ]
  },
  {
   "cell_type": "markdown",
   "metadata": {},
   "source": [
    "Функция для проверки допустимости значений столбцов\n",
    "-\n",
    "Проверяет, что в указаном столбце col_name есть значение value, при ошибке возвращает False."
   ]
  },
  {
   "cell_type": "code",
   "execution_count": 7,
   "metadata": {},
   "outputs": [],
   "source": [
    "def check_existence_in_dataset(col_name: str, value) -> bool:\n",
    "    \"\"\"\n",
    "    Проверяет, есть ли значение value в указанном столбце col_name.\n",
    "    Если такого значения в данных нет, возвращает False.\n",
    "    \"\"\"\n",
    "    unique_values = data[col_name].unique()\n",
    "    return value in unique_values"
   ]
  },
  {
   "cell_type": "markdown",
   "metadata": {},
   "source": [
    "Функция для вывода и визуализации глобальных продаж по году и основной платформе.\n",
    "-\n",
    "Принимает год **year**. Если год отсутствует в данных, выводит сообщение и возвращает пустой DataFrame.\n",
    "В противном случае выводит статистику продаж по платфомам и строит визуализацию. Возвращает отфильтрованный DataFrame."
   ]
  },
  {
   "cell_type": "code",
   "execution_count": 8,
   "metadata": {},
   "outputs": [],
   "source": [
    "def get_sales_by_year(year: int) -> pd.DataFrame:\n",
    "    if not check_existence_in_dataset('Year', year):\n",
    "        print(\"Нет данных по запрошенному параметру, измените вводимые данные на корректные.\")\n",
    "        return pd.DataFrame()\n",
    "\n",
    "    data_year = data[data['Year'] == year]\n",
    "    sales_by_platform = data_year.groupby('Platform')['Global_Sales'].sum().reset_index()\n",
    "    sales_by_platform.sort_values('Global_Sales', ascending=False, inplace=True)\n",
    "    print(f\"Статистика продаж по платформам за {year} год:\")\n",
    "    display(sales_by_platform)\n",
    "    return data_year"
   ]
  },
  {
   "cell_type": "markdown",
   "metadata": {},
   "source": [
    "Функция для построения круговой диаграммы по продажам за указанный год.\n",
    "-\n",
    "Строит круговую диаграмму глобальных продаж за указанный год.\n",
    "    - Радиус долей (процент) отражает 'Global_Sales'.\n",
    "    - Цвет отражает 'Critic_Score' (от бледного к насыщенному).\n",
    "    - Если количество жанров > 10, используется легенда, иначе - подписи сегментов.\n",
    "    - 'Прочее' включается уже в исходном DataFrame."
   ]
  },
  {
   "cell_type": "code",
   "execution_count": 9,
   "metadata": {},
   "outputs": [],
   "source": [
    "def plot_pie_chart_by_year(year: int):\n",
    "    data_year = get_sales_by_year(year)\n",
    "    if data_year.empty:\n",
    "        return\n",
    "\n",
    "    # Группируем по жанру\n",
    "    sales_genre = data_year.groupby('Genre', as_index=False).agg({\n",
    "        'Global_Sales': 'sum',\n",
    "        'Critic_Score': 'mean'  # для цвета возьмём средний Critic_Score\n",
    "    })\n",
    "\n",
    "    # При построении цветовой карты будем использовать Critic_Score\n",
    "    # Чем выше Critic_Score, тем насыщеннее цвет.\n",
    "\n",
    "    # Сначала normalize Critic_Score (чтобы получить значения от 0 до 1)\n",
    "    # Если Critic_Score == \"неизвестное\", при mean это могла быть строка,\n",
    "    # но по идее в датафрейме изначально должны быть числа или \"неизвестное\".\n",
    "    # С учётом fillna(\"неизвестное\") придётся исключить такие строки/преобразовать.\n",
    "    numeric_mask = pd.to_numeric(sales_genre['Critic_Score'], errors='coerce').notna()\n",
    "    # Чтобы не терять все строки, заменим \"неизвестное\" на 0\n",
    "    sales_genre.loc[~numeric_mask, 'Critic_Score'] = 0\n",
    "\n",
    "    # Теперь преобразуем в float\n",
    "    sales_genre['Critic_Score'] = sales_genre['Critic_Score'].astype(float)\n",
    "\n",
    "    min_score = sales_genre['Critic_Score'].min()\n",
    "    max_score = sales_genre['Critic_Score'].max()\n",
    "    score_range = max_score - min_score if max_score != min_score else 1\n",
    "\n",
    "    normalized_colors = (sales_genre['Critic_Score'] - min_score) / score_range\n",
    "\n",
    "    # Создадим колormap\n",
    "    cmap = sns.light_palette(\"blue\", as_cmap=True)\n",
    "\n",
    "    # Генерируем список цветов на основе нормированных значений Critic_Score\n",
    "    colors = [cmap(x) for x in normalized_colors]\n",
    "\n",
    "    # Построение круговой диаграммы\n",
    "    fig, ax = plt.subplots(figsize=(8, 6))\n",
    "    total_sales = sales_genre['Global_Sales'].sum()\n",
    "\n",
    "    # Pie chart\n",
    "    if len(sales_genre) > 10:\n",
    "        # Без подписей, но с легендой\n",
    "        wedges, _, autotexts = ax.pie(\n",
    "            sales_genre['Global_Sales'],\n",
    "            colors=colors,\n",
    "            startangle=140,\n",
    "            autopct=lambda pct: f\"{pct:.1f}%\"  # процент от общего\n",
    "        )\n",
    "        ax.legend(wedges, sales_genre['Genre'], title=\"Жанр\", bbox_to_anchor=(1, 0.5), loc='center left')\n",
    "    else:\n",
    "        # Подписи прямо на сегментах\n",
    "        wedges, texts, autotexts = ax.pie(\n",
    "            sales_genre['Global_Sales'],\n",
    "            labels=sales_genre['Genre'],\n",
    "            colors=colors,\n",
    "            startangle=140,\n",
    "            autopct=lambda pct: f\"{pct:.1f}%\"\n",
    "        )\n",
    "\n",
    "    ax.set_title(f\"Круговая диаграмма по жанрам за {year} год \\n(Общие продажи: {total_sales:.2f} млн)\")\n",
    "    plt.show()"
   ]
  },
  {
   "cell_type": "markdown",
   "metadata": {},
   "source": [
    "Функция, которая строит точечную диаграмму.\n",
    "-\n",
    "Диаграмма строится, используя только те данные, где указаны все значения. В противном случае игра не указывается.\n",
    "В диаграмме указываются следующие значения:\n",
    "- x = оценка критиков\n",
    "- y = оценка потребителей\n",
    "- цвет *(hue)* = жанр\n",
    "- размер *(size)* = размер глобальных продаж\n",
    "\n",
    "Возвращает отсортированные данные."
   ]
  },
  {
   "cell_type": "code",
   "execution_count": 10,
   "metadata": {},
   "outputs": [],
   "source": [
    "def scatter_plot_genre_color():\n",
    "    # Уберём строки, где Critic_Score или User_Score = \"неизвестное\"\n",
    "    data_scatter = data.copy()\n",
    "    data_scatter = data_scatter[data_scatter['Critic_Score'] != \"неизвестное\"]\n",
    "    data_scatter = data_scatter[data_scatter['User_Score'] != \"неизвестное\"]\n",
    "    # Преобразуем в float\n",
    "    data_scatter['Critic_Score'] = data_scatter['Critic_Score'].astype(float)\n",
    "    data_scatter['User_Score'] = data_scatter['User_Score'].astype(float)\n",
    "\n",
    "    plt.figure(figsize=(10, 6))\n",
    "    scatter = sns.scatterplot(\n",
    "        data=data_scatter,\n",
    "        x='Critic_Score',\n",
    "        y='User_Score',\n",
    "        hue='Genre',\n",
    "        size='Global_Sales',\n",
    "        alpha=0.7,\n",
    "        palette='husl'\n",
    "    )\n",
    "    scatter.set_title(\"Соотношение оценок критиков и оценок потребителей в отношении игр \\n(Жанр показывется цветом, размер зависит от глобальных продаж\")\n",
    "    plt.legend(bbox_to_anchor=(1.05, 1), loc='upper left', borderaxespad=0)\n",
    "    plt.show()\n",
    "    return data_scatter"
   ]
  },
  {
   "cell_type": "markdown",
   "metadata": {},
   "source": [
    "Функция, которая строит точечную диаграмму.\n",
    "-\n",
    "Диаграмма строится, используя только те данные, где указаны все значения. В противном случае игра не указывается.\n",
    "В диаграмме указываются следующие значения:\n",
    "- x = оценка критиков\n",
    "- y = оценка потребителей\n",
    "- цвет *(hue)* = платформа\n",
    "- размер *(size)* = размер глобальных продаж\n",
    "\n",
    "Возвращает отсортированные данные."
   ]
  },
  {
   "cell_type": "code",
   "execution_count": 11,
   "metadata": {},
   "outputs": [],
   "source": [
    "def scatter_plot_platform_color():\n",
    "    # Уберём строки, где Critic_Score или User_Score = \"неизвестное\"\n",
    "    data_scatter = data.copy()\n",
    "    data_scatter = data_scatter[data_scatter['Critic_Score'] != \"неизвестное\"]\n",
    "    data_scatter = data_scatter[data_scatter['User_Score'] != \"неизвестное\"]\n",
    "    # Преобразуем в float\n",
    "    data_scatter['Critic_Score'] = data_scatter['Critic_Score'].astype(float)\n",
    "    data_scatter['User_Score'] = data_scatter['User_Score'].astype(float)\n",
    "\n",
    "    plt.figure(figsize=(10, 6))\n",
    "    scatter = sns.scatterplot(\n",
    "        data=data_scatter,\n",
    "        x='Critic_Score',\n",
    "        y='User_Score',\n",
    "        hue='Platform',\n",
    "        size='Global_Sales',\n",
    "        alpha=0.7,\n",
    "        palette='husl'\n",
    "    )\n",
    "    scatter.set_title(\"Соотношение оценок критиков и оценок потребителей в отношении игр \\n(Платформа показывется цветом, размер зависит от глобальных продаж\")\n",
    "    plt.legend(bbox_to_anchor=(1.05, 1), loc='upper left', borderaxespad=0)\n",
    "    plt.show()\n",
    "\n",
    "    return data_scatter"
   ]
  },
  {
   "cell_type": "markdown",
   "metadata": {},
   "source": [
    "Функция для составления сводной таблицы.\n",
    "-\n",
    "Создается сводная таблица по следующим парамерам:\n",
    "- ряд     Создаёт сводную таблицу по выбранным параметрам.\n",
    "    - rows, cols - кортежи колонок, которые будут\n",
    "        - использоваться в качестве строк и столбцов.\n",
    "    - values - поле для агрегации (по умолчанию Global_Sales).\n",
    "    - aggfunc - функция агрегации (по умолчанию sum)."
   ]
  },
  {
   "cell_type": "code",
   "execution_count": 12,
   "metadata": {},
   "outputs": [],
   "source": [
    "def create_pivot_table(rows=('Year', 'Genre'),\n",
    "                       cols=('Platform',),\n",
    "                       values='Global_Sales',\n",
    "                       aggfunc='sum') -> pd.DataFrame:\n",
    "    \"\"\"\n",
    "    Создаёт сводную таблицу по выбранным параметрам.\n",
    "    rows, cols - кортежи колонок, которые будут\n",
    "                 использоваться в качестве строк и столбцов.\n",
    "    values - поле для агрегации (по умолчанию Global_Sales).\n",
    "    aggfunc - функция агрегации (по умолчанию sum).\n",
    "\n",
    "    Возвращает pd.DataFrame (pivot).\n",
    "    \"\"\"\n",
    "\n",
    "    pivot_data = pd.pivot_table(\n",
    "        data,\n",
    "        index=list(rows),\n",
    "        columns=list(cols),\n",
    "        values=values,\n",
    "        aggfunc=aggfunc,\n",
    "        fill_value=0\n",
    "    )\n",
    "\n",
    "    print(f\"Сводная таблица по параметрам: rows={rows}, cols={cols}, values={values}, aggfunc={aggfunc}\")\n",
    "    display(pivot_data)\n",
    "\n",
    "    return pivot_data\n"
   ]
  },
  {
   "cell_type": "markdown",
   "metadata": {},
   "source": [
    "Функция для вывода статистических меток.\n",
    "-\n",
    "Из уже отсортированных значений выводит среднее значение, медиану, максимум и минимум для глобальных продаж, оценок критикоа, оценок пользователей.\n"
   ]
  },
  {
   "cell_type": "code",
   "execution_count": 13,
   "metadata": {},
   "outputs": [],
   "source": [
    "def print_statistics(filtered_data: pd.DataFrame):\n",
    "    # Обработка \"неизвестное\"\n",
    "    data_stats = filtered_data.copy()\n",
    "    for col in ['Critic_Score', 'User_Score', 'Global_Sales']:\n",
    "        # Заменяем \"неизвестно\" на NaN\n",
    "        data_stats[col] = pd.to_numeric(data_stats[col], errors='coerce')\n",
    "\n",
    "    metrics = {}\n",
    "    for col in ['Global_Sales', 'Critic_Score', 'User_Score']:\n",
    "        valid_values = data_stats[col].dropna()\n",
    "        if len(valid_values) == 0:\n",
    "            metrics[col] = {\n",
    "                'mean': None,\n",
    "                'median': None,\n",
    "                'max': None,\n",
    "                'min': None\n",
    "            }\n",
    "        else:\n",
    "            metrics[col] = {\n",
    "                'mean': valid_values.mean(),\n",
    "                'median': valid_values.median(),\n",
    "                'max': valid_values.max(),\n",
    "                'min': valid_values.min()\n",
    "            }\n",
    "\n",
    "    print(\"Статистические метрики (Глобальные продажи, оценка критиков, оценка пользователей): \")\n",
    "    for col, vals in metrics.items():\n",
    "        print(f\"--- {col} ---\")\n",
    "        print(f\"  Среднее:  {vals['mean']}\")\n",
    "        print(f\"  Медиана:  {vals['median']}\")\n",
    "        print(f\"  Максимум: {vals['max']}\")\n",
    "        print(f\"  Минимум:  {vals['min']}\")\n"
   ]
  },
  {
   "cell_type": "markdown",
   "metadata": {},
   "source": [
    "Может избавиться = Функция для построения области прогресса по фильтрам - Принимает уже отсортированные значения. Строит в одну колонку область прогресса, показывая суммарные продажи"
   ]
  },
  {
   "cell_type": "code",
   "execution_count": 14,
   "metadata": {},
   "outputs": [],
   "source": [
    "def plot_global_sales_bar(filtered_data: pd.DataFrame):\n",
    "    # Преобразуем Global_Sales в float\n",
    "    temp_data = filtered_data.copy()\n",
    "    temp_data['Global_Sales'] = pd.to_numeric(temp_data['Global_Sales'], errors='coerce').fillna(0)\n",
    "\n",
    "    total_sales = temp_data['Global_Sales'].sum()\n",
    "\n",
    "    fig, ax = plt.subplots(figsize=(4, 3))\n",
    "    ax.barh(['Суммарные продажи'], [total_sales], color='gray')\n",
    "    ax.set_title(\"Суммарные глобальные продажи по фильтру\")\n",
    "    ax.set_xlabel(\"Global Sales (млн)\")\n",
    "    for i, v in enumerate([total_sales]):\n",
    "        ax.text(v + 0.1, i, f\"{v:.2f}\", va='center')\n",
    "    plt.show()"
   ]
  },
  {
   "cell_type": "markdown",
   "metadata": {},
   "source": [
    "Функция для кнопки, которая сохраняет текущий график.\n",
    "-\n",
    "График сохраняется под именем в котором указано время и дата сохранения в том же месте, где находится код."
   ]
  },
  {
   "cell_type": "code",
   "execution_count": 15,
   "metadata": {},
   "outputs": [
    {
     "data": {
      "application/vnd.jupyter.widget-view+json": {
       "model_id": "20efcb2afec246688f07b023d1435c51",
       "version_major": 2,
       "version_minor": 0
      },
      "text/plain": [
       "Button(description='Сохранить график в PNG', style=ButtonStyle())"
      ]
     },
     "metadata": {},
     "output_type": "display_data"
    }
   ],
   "source": [
    "save_button = widgets.Button(description=\"Сохранить график в PNG\")\n",
    "\n",
    "def save_current_figure(btn):\n",
    "    import time\n",
    "    filename = f\"figure_{time.strftime('%Y%m%d_%H%M%S')}.png\"\n",
    "    plt.savefig(filename, dpi=300, bbox_inches='tight')\n",
    "    print(f\"График сохранён в файл {filename}\")\n",
    "\n",
    "save_button.on_click(save_current_figure)\n",
    "\n",
    "display(save_button)"
   ]
  },
  {
   "cell_type": "markdown",
   "metadata": {},
   "source": [
    "ТЕПЛОВАЯ КАРТА (HEATMAP) КОРРЕЛЯЦИИ"
   ]
  },
  {
   "cell_type": "code",
   "execution_count": 16,
   "metadata": {},
   "outputs": [],
   "source": [
    "def plot_correlation_heatmap():\n",
    "    \"\"\"\n",
    "    Строит тепловую карту корреляции только между Critic_Score, User_Score, Global_Sales.\n",
    "    Annot=True, fmt=\".2f\".\n",
    "    Обязательный заголовок, спокойный стиль.\n",
    "    \"\"\"\n",
    "\n",
    "    # Выберем нужные столбцы\n",
    "    corr_data = data[['Critic_Score', 'User_Score', 'Global_Sales']].copy()\n",
    "\n",
    "    # Заменим \"неизвестное\" на NaN\n",
    "    for col in corr_data.columns:\n",
    "        corr_data[col] = pd.to_numeric(corr_data[col], errors='coerce')\n",
    "\n",
    "    # Считаем корреляцию\n",
    "    corr_matrix = corr_data.corr()\n",
    "\n",
    "    plt.figure(figsize=(5, 4))\n",
    "    sns.heatmap(corr_matrix, annot=True, fmt=\".2f\", cmap='Blues', vmin=-1, vmax=1)\n",
    "    plt.title(\"Тепловая карта корреляций (Critic_Score, User_Score, Global_Sales)\")\n",
    "    plt.show()"
   ]
  },
  {
   "cell_type": "markdown",
   "metadata": {},
   "source": [
    "# ИНТЕРАКТИВНЫЕ ВИДЖЕТЫ ДЛЯ ФИЛЬТРАЦИИ\n",
    "Пример, как можно сделать базовый набор фильтров:\n",
    "  Dropdown по году, жанру, платформе; MultipleSelect по издателю/разработчику и т.д."
   ]
  },
  {
   "cell_type": "code",
   "execution_count": 17,
   "metadata": {},
   "outputs": [
    {
     "data": {
      "application/vnd.jupyter.widget-view+json": {
       "model_id": "a3c451a47dd3457f909b0ac175c23af1",
       "version_major": 2,
       "version_minor": 0
      },
      "text/plain": [
       "Dropdown(description='Год:', options=('Все',), value='Все')"
      ]
     },
     "metadata": {},
     "output_type": "display_data"
    },
    {
     "data": {
      "application/vnd.jupyter.widget-view+json": {
       "model_id": "7dbce50d3f704a39935b9f10963fc961",
       "version_major": 2,
       "version_minor": 0
      },
      "text/plain": [
       "Dropdown(description='Жанр:', options=('Все', 'Action', 'Action-Adventure', 'Adventure', 'Board Game', 'Educat…"
      ]
     },
     "metadata": {},
     "output_type": "display_data"
    },
    {
     "data": {
      "application/vnd.jupyter.widget-view+json": {
       "model_id": "f26da7a4c6904cb8a2786b322267279c",
       "version_major": 2,
       "version_minor": 0
      },
      "text/plain": [
       "Dropdown(description='Платформа:', options=('Все', '2600', '3DO', '3DS', '5200', '7800', 'ACPC', 'AJ', 'AST', …"
      ]
     },
     "metadata": {},
     "output_type": "display_data"
    },
    {
     "data": {
      "application/vnd.jupyter.widget-view+json": {
       "model_id": "2d3a8080b246469a84a48588227a0006",
       "version_major": 2,
       "version_minor": 0
      },
      "text/plain": [
       "SelectMultiple(description='Издатели:', index=(0,), options=('Все', '10TACLE Studios', '10tons', '10tons Ltd',…"
      ]
     },
     "metadata": {},
     "output_type": "display_data"
    },
    {
     "data": {
      "application/vnd.jupyter.widget-view+json": {
       "model_id": "531e170ce5054fc796a6cdd12938277e",
       "version_major": 2,
       "version_minor": 0
      },
      "text/plain": [
       "SelectMultiple(description='Разработчики:', index=(0,), options=('Все', '07th Expansion', '10tons Ltd', '11 bi…"
      ]
     },
     "metadata": {},
     "output_type": "display_data"
    }
   ],
   "source": [
    "# # Получаем уникальные значения\n",
    "# unique_years['Year'] = pd.to_numeric(unique_years['Year'], errors='coerce')\n",
    "# unique_years = sorted([y for y in data['Year'].unique() if y != -1])  # -1 мы обозначили \"неизвестное\"\n",
    "\n",
    "unique_years = sorted([int(y) for y in data['Year'].unique() if str(y).isdigit() and int(y) != -1])\n",
    "# Convert to Pandas Series for dropna() to work\n",
    "unique_years = pd.Series(unique_years)\n",
    "# Remove any NaN values that might have resulted from the conversion\n",
    "unique_years = unique_years.dropna()\n",
    "# Convert back to a list and sort\n",
    "unique_years = sorted(unique_years.tolist())\n",
    "\n",
    "unique_genres = sorted(data['Genre'].unique())\n",
    "unique_platforms = sorted(data['Platform'].unique())\n",
    "unique_publishers = sorted(data['Publisher'].unique())\n",
    "unique_devs = sorted(data['Developer'].unique())\n",
    "\n",
    "year_dropdown = widgets.Dropdown(\n",
    "    options=['Все'] + unique_years,\n",
    "    description='Год:',\n",
    "    value='Все'\n",
    ")\n",
    "\n",
    "genre_dropdown = widgets.Dropdown(\n",
    "    options=['Все'] + unique_genres,\n",
    "    description='Жанр:',\n",
    "    value='Все'\n",
    ")\n",
    "\n",
    "platform_dropdown = widgets.Dropdown(\n",
    "    options=['Все'] + unique_platforms,\n",
    "    description='Платформа:',\n",
    "    value='Все'\n",
    ")\n",
    "\n",
    "publisher_select = widgets.SelectMultiple(\n",
    "    options=['Все'] + unique_publishers,\n",
    "    description='Издатели:',\n",
    "    value=['Все']\n",
    ")\n",
    "\n",
    "dev_select = widgets.SelectMultiple(\n",
    "    options=['Все'] + unique_devs,\n",
    "    description='Разработчики:',\n",
    "    value=['Все']\n",
    ")\n",
    "\n",
    "def filter_data(year, genre, platform, publishers, devs) -> pd.DataFrame:\n",
    "    \"\"\"\n",
    "    Фильтрует данные по выбранным параметрам (если 'Все', то игнорируем).\n",
    "    Возвращает отфильтрованный DataFrame.\n",
    "    \"\"\"\n",
    "    filtered = data.copy()\n",
    "\n",
    "    # Год\n",
    "    if year != 'Все':\n",
    "        if not check_existence_in_dataset('Year', year):\n",
    "            print(\"Нет данных по запрошенному году, измените вводимые данные на корректные.\")\n",
    "            return pd.DataFrame()  # Пустой\n",
    "        filtered = filtered[filtered['Year'] == year]\n",
    "\n",
    "    # Жанр\n",
    "    if genre != 'Все':\n",
    "        if not check_existence_in_dataset('Genre', genre):\n",
    "            print(\"Нет данных по запрошенному жанру, измените вводимые данные на корректные.\")\n",
    "            return pd.DataFrame()\n",
    "        filtered = filtered[filtered['Genre'] == genre]\n",
    "\n",
    "    # Платформа\n",
    "    if platform != 'Все':\n",
    "        if not check_existence_in_dataset('Platform', platform):\n",
    "            print(\"Нет данных по запрошенной платформе, измените вводимые данные на корректные.\")\n",
    "            return pd.DataFrame()\n",
    "        filtered = filtered[filtered['Platform'] == platform]\n",
    "\n",
    "    # Издатели\n",
    "    if publishers != ['Все']:\n",
    "        # Проверим, все ли издатели валидны\n",
    "        for pub in publishers:\n",
    "            if pub != 'Все' and not check_existence_in_dataset('Publisher', pub):\n",
    "                print(\"Нет данных по запрошенному(ым) издателю(ям), измените вводимые данные на корректные.\")\n",
    "                return pd.DataFrame()\n",
    "        # Фильтруем, если в списке издателей\n",
    "        # Если выбрано несколько, оставляем записи, где Publisher входит в publishers\n",
    "        valid_pubs = [p for p in publishers if p != 'Все']\n",
    "        if valid_pubs:\n",
    "            filtered = filtered[filtered['Publisher'].isin(valid_pubs)]\n",
    "\n",
    "    # Разработчики\n",
    "    if devs != ['Все']:\n",
    "        for d in devs:\n",
    "            if d != 'Все' and not check_existence_in_dataset('Developer', d):\n",
    "                print(\"Нет данных по запрошенному(ым) разработчику(ам), измените вводимые данные на корректные.\")\n",
    "                return pd.DataFrame()\n",
    "        valid_devs = [d for d in devs if d != 'Все']\n",
    "        if valid_devs:\n",
    "            filtered = filtered[filtered['Developer'].isin(valid_devs)]\n",
    "\n",
    "    return filtered\n",
    "\n",
    "\n",
    "def on_change_filter(*args):\n",
    "    # Получаем значения виджетов\n",
    "    year_val = year_dropdown.value\n",
    "    genre_val = genre_dropdown.value\n",
    "    platform_val = platform_dropdown.value\n",
    "    publisher_val = list(publisher_select.value)\n",
    "    dev_val = list(dev_select.value)\n",
    "\n",
    "    filtered_data = filter_data(year_val, genre_val, platform_val, publisher_val, dev_val)\n",
    "\n",
    "    if filtered_data.empty:\n",
    "        print(\"Отфильтрованный DataFrame пуст. Проверьте корректность введённых фильтров.\")\n",
    "    else:\n",
    "        # Выводим небольшое резюме\n",
    "        print(f\"Количество строк в отфильтрованном DataFrame: {len(filtered_data)}\")\n",
    "\n",
    "        # Можно сразу отобразить статистику и мини-график\n",
    "        print_statistics(filtered_data)\n",
    "        plot_global_sales_bar(filtered_data)\n",
    "\n",
    "# Подключаем обработчик к каждому виджету\n",
    "year_dropdown.observe(on_change_filter, 'value')\n",
    "genre_dropdown.observe(on_change_filter, 'value')\n",
    "platform_dropdown.observe(on_change_filter, 'value')\n",
    "publisher_select.observe(on_change_filter, 'value')\n",
    "dev_select.observe(on_change_filter, 'value')\n",
    "\n",
    "display(year_dropdown, genre_dropdown, platform_dropdown, publisher_select, dev_select)"
   ]
  },
  {
   "cell_type": "markdown",
   "metadata": {},
   "source": [
    "Функция для вывода топа игр, расчитанного по количеству отправленных копий, которые отсортированны по жанру.\n",
    "-\n",
    "Пользователь задает сколько игр будет в таблице, после выбирает по какому жанру он бы хотел увидеть статистику. Таблица регулируется в размере в зависимости от количества игр в топе. После этого пользователь выбирает из списка жанров тот, который ему интересен."
   ]
  },
  {
   "cell_type": "code",
   "execution_count": 19,
   "metadata": {},
   "outputs": [
    {
     "name": "stdout",
     "output_type": "stream",
     "text": [
      "Доступные жанры:\n",
      "1. Sports\n",
      "2. Platform\n",
      "3. Racing\n",
      "4. Shooter\n",
      "5. Role-Playing\n",
      "6. Puzzle\n",
      "7. Misc\n",
      "8. Party\n",
      "9. Simulation\n",
      "10. Action\n",
      "11. Action-Adventure\n",
      "12. Fighting\n",
      "13. Strategy\n",
      "14. Adventure\n",
      "15. Music\n",
      "16. MMO\n",
      "17. Sandbox\n",
      "18. Visual Novel\n",
      "19. Board Game\n",
      "20. Education\n"
     ]
    },
    {
     "name": "stderr",
     "output_type": "stream",
     "text": [
      "C:\\Users\\pupil\\AppData\\Local\\Temp\\ipykernel_10980\\3175895616.py:20: SettingWithCopyWarning: \n",
      "A value is trying to be set on a copy of a slice from a DataFrame.\n",
      "Try using .loc[row_indexer,col_indexer] = value instead\n",
      "\n",
      "See the caveats in the documentation: https://pandas.pydata.org/pandas-docs/stable/user_guide/indexing.html#returning-a-view-versus-a-copy\n",
      "  filtered_data['Total_Shipped'] = pd.to_numeric(filtered_data['Total_Shipped'], errors='coerce')\n"
     ]
    },
    {
     "data": {
      "image/png": "[encoded data removed]",
      "text/plain": [
       "<Figure size 640x480 with 1 Axes>"
      ]
     },
     "metadata": {},
     "output_type": "display_data"
    }
   ],
   "source": [
    "num_top = int(input(\"Введите, сколько вы хотите увидеть значений в топе: \"))\n",
    "if num_top <= 30:\n",
    "  size_table = 1\n",
    "elif num_top <= 60:\n",
    "  size_table = 2\n",
    "elif num_top <= 100:\n",
    "  size_table = 3\n",
    "else:\n",
    "  size_table = 6\n",
    "\n",
    "genres_table = data['Genre'].unique()\n",
    "print(\"Доступные жанры:\")\n",
    "for i, genre in enumerate(genres_table):\n",
    "    print(f\"{i + 1}. {genre}\")\n",
    "\n",
    "genre_numb = int(input(\"Выберите номер жанра, по которому вы хотите получить статистику: \")) - 1\n",
    "gen = genres_table[genre_numb]\n",
    "\n",
    "filtered_data = data[data['Genre'] == gen]\n",
    "filtered_data['Total_Shipped'] = pd.to_numeric(filtered_data['Total_Shipped'], errors='coerce')\n",
    "top = filtered_data.sort_values(by='Total_Shipped', ascending=False).head(num_top)\n",
    "total = top['Total_Shipped']\n",
    "names = top['Name']\n",
    "plt.bar(names, total)\n",
    "plt.xlabel(\"Игры\")\n",
    "plt.ylabel(\"Сколько миллионов продано\")\n",
    "plt.title(f\"Топ {num_top} продаваемых игр\")\n",
    "plt.xticks(rotation=90, fontsize=10)\n",
    "plt.subplots_adjust(bottom=0.25, left=0.1, right=size_table, top=0.9)\n",
    "plt.show()"
   ]
  },
  {
   "cell_type": "markdown",
   "metadata": {},
   "source": [
    "Получение года выпуска игры от пользователя, который позволяет позже получить данные за тот год, который хочет пользователь, выборка данных по запрошенному году, показ глобальных продаж игр выпущенных за указанный год, отсортированные по основному жанру игры."
   ]
  },
  {
   "cell_type": "code",
   "execution_count": 20,
   "metadata": {},
   "outputs": [
    {
     "name": "stdout",
     "output_type": "stream",
     "text": [
      "2010\n"
     ]
    }
   ],
   "source": [
    "import datetime\n",
    "from datetime import datetime\n",
    "current_year = datetime.now().year\n",
    "\n",
    "while True:\n",
    "    try:\n",
    "        year = int(input(\"Введите год для анализа (например, 2010): \"))\n",
    "\n",
    "        if 1970 <= year <= current_year:\n",
    "            print(year)\n",
    "            break\n",
    "        else:\n",
    "            print(\"Год не верен. Пожалйуста, введите год в актуальном диапазоне, начиная с 1970, до текущего включительно.\")\n",
    "    except ValueError:\n",
    "        print(\"Пожалуйста, введите год в числовом формате.\")\n",
    "        # Проверка данных на соответствие"
   ]
  },
  {
   "cell_type": "code",
   "execution_count": 21,
   "metadata": {},
   "outputs": [
    {
     "name": "stdout",
     "output_type": "stream",
     "text": [
      "\n",
      "Проданные игры, вышедшие в 2010 году (отсортированные по жанрам, по убыванию):\n",
      "Genre\n",
      "Sports              89.39\n",
      "Action              85.80\n",
      "Shooter             78.57\n",
      "Misc                57.14\n",
      "Role-Playing        42.10\n",
      "Adventure           29.84\n",
      "Simulation          25.33\n",
      "Racing              23.85\n",
      "Fighting            14.37\n",
      "Platform             9.24\n",
      "Strategy             9.10\n",
      "Puzzle               8.07\n",
      "MMO                  1.58\n",
      "Music                0.14\n",
      "Visual Novel         0.10\n",
      "Party                0.00\n",
      "Action-Adventure     0.00\n",
      "Name: Global_Sales, dtype: float64\n"
     ]
    },
    {
     "name": "stderr",
     "output_type": "stream",
     "text": [
      "C:\\Users\\pupil\\AppData\\Local\\Temp\\ipykernel_10980\\11573906.py:9: SettingWithCopyWarning: \n",
      "A value is trying to be set on a copy of a slice from a DataFrame.\n",
      "Try using .loc[row_indexer,col_indexer] = value instead\n",
      "\n",
      "See the caveats in the documentation: https://pandas.pydata.org/pandas-docs/stable/user_guide/indexing.html#returning-a-view-versus-a-copy\n",
      "  filtered_data['Global_Sales'] = pd.to_numeric(filtered_data['Global_Sales'], errors='coerce')\n",
      "C:\\Users\\pupil\\AppData\\Local\\Temp\\ipykernel_10980\\11573906.py:19: FutureWarning: \n",
      "\n",
      "The `ci` parameter is deprecated. Use `errorbar=None` for the same effect.\n",
      "\n",
      "  sns.barplot(x=sorted_data.index, y=sorted_data.values, ci=None)\n"
     ]
    },
    {
     "data": {
      "image/png": "[encoded data removed]",
      "text/plain": [
       "<Figure size 1000x600 with 1 Axes>"
      ]
     },
     "metadata": {},
     "output_type": "display_data"
    }
   ],
   "source": [
    "# Фильтрация данных по выбранному году\n",
    "filtered_data = data[data[\"Year\"] == year]\n",
    "\n",
    "# Проверка наличия данных за указанный год\n",
    "if filtered_data.empty:\n",
    "    print(f\"Нет данных за {year} год.\")\n",
    "else:\n",
    "    # Convert 'Global_Sales' to numeric before grouping\n",
    "    filtered_data['Global_Sales'] = pd.to_numeric(filtered_data['Global_Sales'], errors='coerce')\n",
    "    # Сортировка по продажам по убыванию\n",
    "    sorted_data = filtered_data.groupby(\"Genre\")[\"Global_Sales\"].sum().sort_values(ascending=False)\n",
    "\n",
    "    # Выводим отсортированные данные\n",
    "    print(f\"\\nПроданные игры, вышедшие в {year} году (отсортированные по жанрам, по убыванию):\")\n",
    "    print(sorted_data)\n",
    "\n",
    "    # Построение графика\n",
    "    plt.figure(figsize=(10, 6))\n",
    "    sns.barplot(x=sorted_data.index, y=sorted_data.values, ci=None)\n",
    "    plt.title(f\"Продажи игр, вышедших в {year} году, отсортированные по жанрам в порядке убывания\")\n",
    "    plt.xlabel(\"Жанры\")\n",
    "    plt.ylabel(\"Продажи (млн копий)\")\n",
    "    plt.xticks(rotation=45)\n",
    "    plt.show()"
   ]
  },
  {
   "cell_type": "markdown",
   "metadata": {},
   "source": [
    "# Добавление в DataFrame"
   ]
  },
  {
   "cell_type": "code",
   "execution_count": 22,
   "metadata": {},
   "outputs": [
    {
     "name": "stdout",
     "output_type": "stream",
     "text": [
      "Доступные жанры:\n",
      "1. Sports\n",
      "2. Platform\n",
      "3. Racing\n",
      "4. Shooter\n",
      "5. Role-Playing\n",
      "6. Puzzle\n",
      "7. Misc\n",
      "8. Party\n",
      "9. Simulation\n",
      "10. Action\n",
      "11. Action-Adventure\n",
      "12. Fighting\n",
      "13. Strategy\n",
      "14. Adventure\n",
      "15. Music\n",
      "16. MMO\n",
      "17. Sandbox\n",
      "18. Visual Novel\n",
      "19. Board Game\n",
      "20. Education\n",
      "Введённый жанр не найден в списке доступных. Пожалуйста, выберите из списка.\n",
      "Доступные жанры:\n",
      "1. Sports\n",
      "2. Platform\n",
      "3. Racing\n",
      "4. Shooter\n",
      "5. Role-Playing\n",
      "6. Puzzle\n",
      "7. Misc\n",
      "8. Party\n",
      "9. Simulation\n",
      "10. Action\n",
      "11. Action-Adventure\n",
      "12. Fighting\n",
      "13. Strategy\n",
      "14. Adventure\n",
      "15. Music\n",
      "16. MMO\n",
      "17. Sandbox\n",
      "18. Visual Novel\n",
      "19. Board Game\n",
      "20. Education\n",
      "Выбранный жанр: Simulation\n"
     ]
    },
    {
     "data": {
      "text/html": [
       "<div>\n",
       "<style scoped>\n",
       "    .dataframe tbody tr th:only-of-type {\n",
       "        vertical-align: middle;\n",
       "    }\n",
       "\n",
       "    .dataframe tbody tr th {\n",
       "        vertical-align: top;\n",
       "    }\n",
       "\n",
       "    .dataframe thead th {\n",
       "        text-align: right;\n",
       "    }\n",
       "</style>\n",
       "<table border=\"1\" class=\"dataframe\">\n",
       "  <thead>\n",
       "    <tr style=\"text-align: right;\">\n",
       "      <th></th>\n",
       "      <th>Rank</th>\n",
       "      <th>Name</th>\n",
       "      <th>Genre</th>\n",
       "      <th>ESRB_Rating</th>\n",
       "      <th>Platform</th>\n",
       "      <th>Publisher</th>\n",
       "      <th>Developer</th>\n",
       "      <th>Critic_Score</th>\n",
       "      <th>User_Score</th>\n",
       "      <th>Total_Shipped</th>\n",
       "      <th>Global_Sales</th>\n",
       "      <th>NA_Sales</th>\n",
       "      <th>PAL_Sales</th>\n",
       "      <th>JP_Sales</th>\n",
       "      <th>Other_Sales</th>\n",
       "      <th>Year</th>\n",
       "    </tr>\n",
       "  </thead>\n",
       "  <tbody>\n",
       "    <tr>\n",
       "      <th>55792</th>\n",
       "      <td>55793</td>\n",
       "      <td>Dan &amp; What?</td>\n",
       "      <td>Simulation</td>\n",
       "      <td>неизвестно</td>\n",
       "      <td>PC</td>\n",
       "      <td>Steam</td>\n",
       "      <td>Dan Project</td>\n",
       "      <td>6.4</td>\n",
       "      <td>7.3</td>\n",
       "      <td>неизвестно</td>\n",
       "      <td>неизвестно</td>\n",
       "      <td>неизвестно</td>\n",
       "      <td>неизвестно</td>\n",
       "      <td>неизвестно</td>\n",
       "      <td>неизвестно</td>\n",
       "      <td>2025</td>\n",
       "    </tr>\n",
       "  </tbody>\n",
       "</table>\n",
       "</div>"
      ],
      "text/plain": [
       "        Rank         Name       Genre ESRB_Rating Platform Publisher  \\\n",
       "55792  55793  Dan & What?  Simulation  неизвестно       PC     Steam   \n",
       "\n",
       "         Developer Critic_Score User_Score Total_Shipped Global_Sales  \\\n",
       "55792  Dan Project          6.4        7.3    неизвестно   неизвестно   \n",
       "\n",
       "         NA_Sales   PAL_Sales    JP_Sales Other_Sales  Year  \n",
       "55792  неизвестно  неизвестно  неизвестно  неизвестно  2025  "
      ]
     },
     "execution_count": 22,
     "metadata": {},
     "output_type": "execute_result"
    }
   ],
   "source": [
    "def check_empty_string(string):\n",
    "  if not string:  # Проверка на пустоту строки\n",
    "    return \"неизвестно\"\n",
    "  else:\n",
    "    return string\n",
    "def new_row_create(Name, Genre, ESRB_Rating, Platform, Publisher, Developer, Critic_Score, User_Score, Total_Shipped, Global_Sales, NA_Sales, PAL_Sales, JP_Sales, Other_Sales, Year):\n",
    "  global data\n",
    "  new_row = {\n",
    "      'Rank': len(data) + 1,\n",
    "      'Name': Name,\n",
    "      'Genre': Genre,\n",
    "      'ESRB_Rating': ESRB_Rating,\n",
    "      'Platform': Platform,\n",
    "      'Publisher': Publisher,\n",
    "      'Developer': Developer,\n",
    "      'Critic_Score': Critic_Score,\n",
    "      'User_Score': User_Score,\n",
    "      'Total_Shipped': Total_Shipped,\n",
    "      'Global_Sales': Global_Sales,\n",
    "      'NA_Sales': NA_Sales,\n",
    "      'PAL_Sales': PAL_Sales,\n",
    "      'JP_Sales': JP_Sales,\n",
    "      'Other_Sales': Other_Sales,\n",
    "      'Year': Year\n",
    "  }\n",
    "  data = pd.concat([data, pd.DataFrame([new_row])], ignore_index=True)\n",
    "# data.info()\n",
    "# data.head()\n",
    "# data[data['Name'] == 'SSSSS']\n",
    "# data = pd.concat([data, pd.DataFrame([new_row])], ignore_index=True)\n",
    "while True:\n",
    "  Name = input(\"Введите название игры: \")\n",
    "  if not Name:\n",
    "    print(\"У игры обязетельно должно быть название. Введите название еще раз.\")\n",
    "  else:\n",
    "    break\n",
    "genres_table = data['Genre'].unique()\n",
    "while True:\n",
    "  print(\"Доступные жанры:\")\n",
    "  for i, genre in enumerate(genres_table):\n",
    "      print(f\"{i + 1}. {genre}\")\n",
    "  Genre = input(\"Введите жанр игры: \")\n",
    "\n",
    "  if Genre in genres_table:\n",
    "      print(f\"Выбранный жанр: {Genre}\")\n",
    "      break  # Выход из цикла, если жанр валидный\n",
    "  else:\n",
    "      print(\"Введённый жанр не найден в списке доступных. Пожалуйста, выберите из списка.\")\n",
    "\n",
    "ESRB_Rating = check_empty_string(input(\"Введите ESRB рейтинг игры: \"))\n",
    "Platform = check_empty_string(input(\"Введите платформу игры: \"))\n",
    "Publisher = check_empty_string(input(\"Введите издателя игры: \"))\n",
    "Developer = check_empty_string(input(\"Введите разработчика игры: \"))\n",
    "Critic_Score = check_empty_string(input(\"Введите оценку критиков: \"))\n",
    "User_Score = check_empty_string(input(\"Введите оценку пользователей: \"))\n",
    "Total_Shipped = check_empty_string(input(\"Введите количество копий, проданных: \"))\n",
    "Global_Sales = check_empty_string(input(\"Введите глобальные продажи: \"))\n",
    "NA_Sales = check_empty_string(input(\"Введите продажи в Северной Америке: \"))\n",
    "PAL_Sales = check_empty_string(input(\"Введите продажи в Европе, Африку, Южной Америке, Океании и Азии: \"))\n",
    "JP_Sales = check_empty_string(input(\"Введите продажи в Японии: \"))\n",
    "Other_Sales = check_empty_string(input(\"Введите другие продажи: \"))\n",
    "Year = check_empty_string(input(\"Введите год выпуска игры: \"))\n",
    "\n",
    "# genres_table = data['Genre'].unique()\n",
    "# print(\"Доступные жанры:\")\n",
    "# for i, genre in enumerate(genres_table):\n",
    "#     print(f\"{i + 1}. {genre}\")\n",
    "new_row_create(Name, Genre, ESRB_Rating, Platform, Publisher, Developer, Critic_Score, User_Score, Total_Shipped, Global_Sales, NA_Sales, PAL_Sales, JP_Sales, Other_Sales, Year)\n",
    "# new_row_create('AAAA', 'Action', 'E', 'PS2', 'Electronic Arts', 'Electronic Arts', 7, 5, 3, 1, 2, 2, 0.2, 3, 2024)\n",
    "data[data['Name'] == Name]"
   ]
  }
 ],
 "metadata": {
  "kernelspec": {
   "display_name": "Python 3",
   "language": "python",
   "name": "python3"
  },
  "language_info": {
   "codemirror_mode": {
    "name": "ipython",
    "version": 3
   },
   "file_extension": ".py",
   "mimetype": "text/x-python",
   "name": "python",
   "nbconvert_exporter": "python",
   "pygments_lexer": "ipython3",
   "version": "3.12.6"
  }
 },
 "nbformat": 4,
 "nbformat_minor": 2
}
