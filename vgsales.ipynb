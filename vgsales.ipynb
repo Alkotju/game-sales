{
 "cells": [
  {
   "cell_type": "markdown",
   "metadata": {
    "id": "Pr_kPvLfjMsV"
   },
   "source": [
    "# Установка необходимых библиотек"
   ]
  },
  {
   "cell_type": "code",
   "execution_count": null,
   "metadata": {
    "id": "oti3xL1RjMsX"
   },
   "outputs": [],
   "source": [
    "%pip install pandas seaborn matplotlib ipywidgets"
   ]
  },
  {
   "cell_type": "markdown",
   "metadata": {
    "id": "vaxPEDKojMsY"
   },
   "source": [
    "# Импорт библиотек"
   ]
  },
  {
   "cell_type": "code",
   "execution_count": null,
   "metadata": {
    "id": "Q0Or6XLCjMsY"
   },
   "outputs": [],
   "source": [
    "import pandas as pd\n",
    "import seaborn as sns\n",
    "import matplotlib.pyplot as plt\n",
    "import datetime\n",
    "from datetime import datetime\n",
    "import ipywidgets as widgets\n",
    "\n",
    "sns.set_theme()"
   ]
  },
  {
   "cell_type": "markdown",
   "metadata": {
    "id": "jFvW3bldjMsY"
   },
   "source": [
    "# Загружаем и предварительно обрабатываем данные из файла vgsales-12-4-2019-short.csv\n",
    "\n",
    "Пропущенные данные заменяем на \"неизвестно\". Редкие категории в разделах Genre, Platform, Publisher, Developer группируем, объединив и переименовав из в \"Прочее\", для более приятного восприятия (если значение меньше 5).\n",
    "\n",
    "Выводим все категории и пример первых заполненных строк данных."
   ]
  },
  {
   "cell_type": "code",
   "execution_count": null,
   "metadata": {
    "id": "XF45MuyjjMsZ"
   },
   "outputs": [],
   "source": [
    "data = pd.read_csv('vgsales-12-4-2019-short.csv')\n",
    "\n",
    "data.fillna(\"неизвестно\", inplace=True)"
   ]
  },
  {
   "cell_type": "markdown",
   "metadata": {
    "id": "UZSKpEdujMsZ"
   },
   "source": [
    "Прописываем условие, чтобы наиболее редкие данные объединялись в \"Прочее\". \n"
   ]
  },
  {
   "cell_type": "code",
   "execution_count": null,
   "metadata": {
    "id": "3M5_9DZljMsZ"
   },
   "outputs": [],
   "source": [
    "THRESHOLD = 5\n",
    "\n",
    "def group_rare_categories(series, threshold=THRESHOLD):\n",
    "    value_counts = series.value_counts()\n",
    "    rare_categories = value_counts[value_counts < threshold].index\n",
    "    return series.apply(lambda x: \"Прочее\" if x in rare_categories else x)\n",
    "\n",
    "data['Genre'] = group_rare_categories(data['Genre'], THRESHOLD)\n",
    "data['Platform'] = group_rare_categories(data['Platform'], THRESHOLD)\n",
    "data['Publisher'] = group_rare_categories(data['Publisher'], THRESHOLD)\n",
    "data['Developer'] = group_rare_categories(data['Developer'], THRESHOLD)"
   ]
  },
  {
   "cell_type": "markdown",
   "metadata": {},
   "source": [
    "Запуск функции."
   ]
  },
  {
   "cell_type": "code",
   "execution_count": null,
   "metadata": {
    "id": "IpmgSKGGjMsa"
   },
   "outputs": [],
   "source": [
    "group_rare_categories(data['Genre'], THRESHOLD)\n",
    "group_rare_categories(data['Platform'], THRESHOLD)\n",
    "group_rare_categories(data['Publisher'], THRESHOLD)\n",
    "group_rare_categories(data['Developer'], THRESHOLD)"
   ]
  },
  {
   "cell_type": "markdown",
   "metadata": {
    "id": "ZqV6bMfGjMsa"
   },
   "source": [
    "Проверяем, что показывает база данных. "
   ]
  },
  {
   "cell_type": "code",
   "execution_count": null,
   "metadata": {
    "id": "AJ7yYLOqjMsb"
   },
   "outputs": [],
   "source": [
    "data.info()\n",
    "data.head()"
   ]
  },
  {
   "cell_type": "markdown",
   "metadata": {
    "id": "B3B2BCG0jMsb"
   },
   "source": [
    "Проверка допустимости значений столбцов\n",
    "-\n",
    "Проверяет, что в указаном столбце col_name есть значение value, при ошибке возвращает False."
   ]
  },
  {
   "cell_type": "code",
   "execution_count": null,
   "metadata": {
    "id": "Qryku4svjMsb"
   },
   "outputs": [],
   "source": [
    "def check_existence_in_dataset(col_name: str, value) -> bool:\n",
    "    \"\"\"\n",
    "    Проверяет, есть ли значение value в указанном столбце col_name.\n",
    "    Если такого значения в данных нет, возвращает False.\n",
    "    \"\"\"\n",
    "    unique_values = data[col_name].unique()\n",
    "    return value in unique_values\n",
    "check_existence_in_dataset('Year', 2020)"
   ]
  },
  {
   "cell_type": "markdown",
   "metadata": {
    "id": "PzmJiT-EjMsb"
   },
   "source": [
    "Вывод и визуализация глобальных продаж по году и основной платформе.\n",
    "-\n",
    "Принимает год **year**. Если год отсутствует в данных, выводит сообщение и возвращает пустые данные.\n",
    "В противном случае выводит статистику продаж по платфомам и строит визуализацию. Возвращает отфильтрованные данные."
   ]
  },
  {
   "cell_type": "code",
   "execution_count": null,
   "metadata": {
    "id": "7O1YXFPpjMsb"
   },
   "outputs": [],
   "source": [
    "def get_sales_by_year(year: int) -> pd.DataFrame:\n",
    "    if not check_existence_in_dataset('Year', year):\n",
    "        print(\"Нет данных по запрошенному параметру, измените вводимые данные на корректные.\")\n",
    "        return pd.DataFrame()\n",
    "\n",
    "    data_year = data[data['Year'] == year]\n",
    "    data_year['Global_Sales'] = pd.to_numeric(data_year['Global_Sales'], errors='coerce')\n",
    "    sales_by_platform = data_year.groupby('Platform')['Global_Sales'].sum().reset_index()\n",
    "    sales_by_platform.sort_values('Global_Sales', ascending=False, inplace=True)\n",
    "    print(f\"Статистика продаж по платформам за {year} год:\")\n",
    "    display(sales_by_platform)\n",
    "    return data_year\n",
    "get_sales_by_year(2020)"
   ]
  },
  {
   "cell_type": "markdown",
   "metadata": {
    "id": "Qw-oTtRdjMsb"
   },
   "source": [
    "Построение круговой диаграммы по продажам за указанный год.(разрабатывается)\n",
    "-\n",
    "Строит круговую диаграмму глобальных продаж за указанный год.\n",
    "- Радиус долей (процент) отражает 'Global_Sales'.\n",
    "- Цвет отражает 'Critic_Score' (от бледного к насыщенному).\n",
    "- Если количество жанров > 10, используется легенда, иначе - подписываются сегменты."
   ]
  },
  {
   "cell_type": "code",
   "execution_count": null,
   "metadata": {
    "id": "D5XupXN0jMsc"
   },
   "outputs": [],
   "source": [
    "def plot_pie_chart_by_year(year: int):\n",
    "    data_year = get_sales_by_year(year)\n",
    "    if data_year.empty:\n",
    "        return\n",
    "\n",
    "    sales_genre = data_year.groupby('Genre', as_index=False).agg({\n",
    "        'Global_Sales': 'sum',\n",
    "        'Critic_Score': 'mean'  \n",
    "    })\n",
    "\n",
    "    numeric_mask = pd.to_numeric(sales_genre['Critic_Score'], errors='coerce').notna()\n",
    "    sales_genre.loc[~numeric_mask, 'Critic_Score'] = 0\n",
    "    sales_genre['Critic_Score'] = sales_genre['Critic_Score'].astype(float)\n",
    "\n",
    "    min_score = sales_genre['Critic_Score'].min()\n",
    "    max_score = sales_genre['Critic_Score'].max()\n",
    "    score_range = max_score - min_score if max_score != min_score else 1\n",
    "\n",
    "    normalized_colors = (sales_genre['Critic_Score'] - min_score) / score_range\n",
    "\n",
    "    cmap = sns.light_palette(\"blue\", as_cmap=True)\n",
    "    colors = [cmap(x) for x in normalized_colors]\n",
    "\n",
    "    fig, ax = plt.subplots(figsize=(8, 6))\n",
    "    total_sales = sales_genre['Global_Sales'].sum()\n",
    "\n",
    "    if len(sales_genre) > 10:\n",
    "        wedges, _, autotexts = ax.pie(\n",
    "            sales_genre['Global_Sales'],\n",
    "            colors=colors,\n",
    "            startangle=140,\n",
    "            autopct=lambda pct: f\"{pct:.1f}%\"\n",
    "        )\n",
    "        ax.legend(wedges, sales_genre['Genre'], title=\"Жанр\", bbox_to_anchor=(1, 0.5), loc='center left')\n",
    "    else:\n",
    "        wedges, texts, autotexts = ax.pie(\n",
    "            sales_genre['Global_Sales'],\n",
    "            labels=sales_genre['Genre'],\n",
    "            colors=colors,\n",
    "            startangle=140,\n",
    "            autopct=lambda pct: f\"{pct:.1f}%\"\n",
    "        )\n",
    "\n",
    "    ax.set_title(f\"Круговая диаграмма по жанрам за {year} год \\n(Общие продажи: {total_sales:.2f} млн)\")\n",
    "    plt.show()\n",
    "plot_pie_chart_by_year(2021)"
   ]
  },
  {
   "cell_type": "markdown",
   "metadata": {
    "id": "4p-dYvUajMsc"
   },
   "source": [
    "Функция, которая строит точечную диаграмму.\n",
    "-\n",
    "Диаграмма строится, используя только те данные, где указаны все значения. В противном случае игра не указывается.\n",
    "В диаграмме указываются следующие значения:\n",
    "- x = оценка критиков\n",
    "- y = оценка потребителей\n",
    "- цвет *(hue)* = жанр\n",
    "- размер *(size)* = размер глобальных продаж\n",
    "\n",
    "Возвращает отсортированные данные."
   ]
  },
  {
   "cell_type": "code",
   "execution_count": null,
   "metadata": {
    "id": "w26U5q6ojMsc"
   },
   "outputs": [],
   "source": [
    "def scatter_plot_genre_color():\n",
    "    data_scatter = data.copy()\n",
    "    data_scatter = data_scatter[data_scatter['Critic_Score'] != \"неизвестно\"]\n",
    "    data_scatter = data_scatter[data_scatter['User_Score'] != \"неизвестно\"]\n",
    "    data_scatter['Critic_Score'] = pd.to_numeric(data_scatter['Critic_Score'], errors='coerce')\n",
    "    data_scatter['User_Score'] = pd.to_numeric(data_scatter['User_Score'], errors='coerce')\n",
    "    data_scatter = data_scatter.dropna(subset=['Critic_Score', 'User_Score'])\n",
    "\n",
    "    plt.figure(figsize=(10, 6))\n",
    "    scatter = sns.scatterplot(\n",
    "        data=data_scatter,\n",
    "        x='Critic_Score',\n",
    "        y='User_Score',\n",
    "        hue='Genre',\n",
    "        size='Global_Sales',\n",
    "        alpha=0.7,\n",
    "        palette='husl'\n",
    "    )\n",
    "    scatter.set_title(\"Соотношение оценок критиков и оценок потребителей в отношении игр \\n(Жанр показывется цветом, размер зависит от глобальных продаж\")\n",
    "    plt.legend(bbox_to_anchor=(1.05, 1), loc='upper left', borderaxespad=0)\n",
    "    plt.show()\n",
    "    return data_scatter\n",
    "scatter_plot_genre_color()"
   ]
  },
  {
   "cell_type": "markdown",
   "metadata": {
    "id": "njvbBdmRjMsc"
   },
   "source": [
    "Строительство точечной диаграммы.\n",
    "-\n",
    "Диаграмма строится, используя только те данные, где указаны все значения. В противном случае игра не указывается.\n",
    "В диаграмме указываются следующие значения:\n",
    "- x = оценка критиков\n",
    "- y = оценка потребителей\n",
    "- цвет *(hue)* = платформа\n",
    "- размер *(size)* = размер глобальных продаж\n",
    "\n",
    "Возвращает отсортированные данные."
   ]
  },
  {
   "cell_type": "code",
   "execution_count": null,
   "metadata": {
    "id": "uFiZnmMdjMsc"
   },
   "outputs": [],
   "source": [
    "def scatter_plot_platform_color():\n",
    "    data_scatter = data.copy()\n",
    "    data_scatter = data_scatter[data_scatter['Critic_Score'] != \"неизвестное\"]\n",
    "    data_scatter = data_scatter[data_scatter['User_Score'] != \"неизвестное\"]\n",
    "    data_scatter['Critic_Score'] = pd.to_numeric(data_scatter['Critic_Score'], errors='coerce')\n",
    "    data_scatter['User_Score'] = pd.to_numeric(data_scatter['User_Score'], errors='coerce')\n",
    "    data_scatter = data_scatter.dropna(subset=['Critic_Score', 'User_Score'])\n",
    "\n",
    "    plt.figure(figsize=(10, 6))\n",
    "    scatter = sns.scatterplot(\n",
    "        data=data_scatter,\n",
    "        x='Critic_Score',\n",
    "        y='User_Score',\n",
    "        hue='Platform',\n",
    "        size='Global_Sales',\n",
    "        alpha=0.7,\n",
    "        palette='husl'\n",
    "    )\n",
    "    scatter.set_title(\"Соотношение оценок критиков и оценок потребителей в отношении игр \\n(Платформа показывется цветом, размер зависит от глобальных продаж\")\n",
    "    plt.legend(bbox_to_anchor=(1.05, 1), loc='upper left', borderaxespad=0)\n",
    "    plt.show()\n",
    "\n",
    "    return data_scatter\n",
    "scatter_plot_platform_color()"
   ]
  },
  {
   "cell_type": "markdown",
   "metadata": {
    "id": "CcZ2BRoUjMsd"
   },
   "source": [
    "Функция для составления сводной таблицы.\n",
    "-\n",
    "Создается сводная таблица по следующим парамерам:\n",
    "- rows, cols - кортежи колонок, которые будут использоваться в качестве строк и столбцов.\n",
    "- values - поле для агрегации (по умолчанию Global_Sales).\n",
    "- aggfunc - функция агрегации (по умолчанию sum)."
   ]
  },
  {
   "cell_type": "code",
   "execution_count": null,
   "metadata": {
    "id": "eGeJVd_ljMsd"
   },
   "outputs": [],
   "source": [
    "def create_pivot_table(rows=('Year', 'Genre'),\n",
    "                       cols=('Platform',),\n",
    "                       values='Global_Sales',\n",
    "                       aggfunc='sum') -> pd.DataFrame:\n",
    "\n",
    "    data[values] = pd.to_numeric(data[values], errors='coerce')\n",
    "\n",
    "    pivot_data = pd.pivot_table(\n",
    "        data,\n",
    "        index=list(rows),\n",
    "        columns=list(cols),\n",
    "        values=values,\n",
    "        aggfunc=aggfunc,\n",
    "        fill_value=0\n",
    "    )\n",
    "\n",
    "    print(f\"Сводная таблица по параметрам: rows={rows}, cols={cols}, values={values}, aggfunc={aggfunc}\")\n",
    "    display(pivot_data)\n",
    "\n",
    "    return pivot_data\n",
    "create_pivot_table()"
   ]
  },
  {
   "cell_type": "markdown",
   "metadata": {
    "id": "Jx85vvA7jMsd"
   },
   "source": [
    "# Вывод статистических меток.\n",
    "Из уже отсортированных значений выводит среднее значение, медиану, максимум и минимум для глобальных продаж, оценок критикоа, оценок пользователей.\n"
   ]
  },
  {
   "cell_type": "code",
   "execution_count": null,
   "metadata": {
    "id": "D5fb84b1jMsd"
   },
   "outputs": [],
   "source": [
    "def print_statistics(filtered_data: pd.DataFrame):\n",
    "    data_stats = filtered_data.copy()\n",
    "    for col in ['Critic_Score', 'User_Score', 'Global_Sales']:\n",
    "        data_stats[col] = pd.to_numeric(data_stats[col], errors='coerce')\n",
    "\n",
    "    metrics = {}\n",
    "    for col in ['Global_Sales', 'Critic_Score', 'User_Score']:\n",
    "        valid_values = data_stats[col].dropna()\n",
    "        if len(valid_values) == 0:\n",
    "            metrics[col] = {\n",
    "                'mean': None,\n",
    "                'median': None,\n",
    "                'max': None,\n",
    "                'min': None\n",
    "            }\n",
    "        else:\n",
    "            metrics[col] = {\n",
    "                'mean': valid_values.mean(),\n",
    "                'median': valid_values.median(),\n",
    "                'max': valid_values.max(),\n",
    "                'min': valid_values.min()\n",
    "            }\n",
    "\n",
    "    print(\"Статистические метрики (Глобальные продажи, оценка критиков, оценка пользователей): \")\n",
    "    for col, vals in metrics.items():\n",
    "        print(f\"--- {col} ---\")\n",
    "        print(f\"  Среднее:  {vals['mean']}\")\n",
    "        print(f\"  Медиана:  {vals['median']}\")\n",
    "        print(f\"  Максимум: {vals['max']}\")\n",
    "        print(f\"  Минимум:  {vals['min']}\")\n",
    "print_statistics(data)"
   ]
  },
  {
   "cell_type": "markdown",
   "metadata": {
    "id": "hogs-BBjjMsd"
   },
   "source": [
    "# Кнопка, которая сохраняет текущий график.\n",
    "\n",
    "График сохраняется под именем в котором указано время и дата сохранения в том же месте, где находится код."
   ]
  },
  {
   "cell_type": "code",
   "execution_count": null,
   "metadata": {
    "id": "UAAOJK89jMsd"
   },
   "outputs": [],
   "source": [
    "save_button = widgets.Button(description=\"Сохранить график в PNG\")\n",
    "\n",
    "def save_current_figure(btn):\n",
    "    import time\n",
    "    filename = f\"figure_{time.strftime('%Y%m%d_%H%M%S')}.png\"\n",
    "    plt.savefig(filename, dpi=300, bbox_inches='tight')\n",
    "    print(f\"График сохранён в файл {filename}\")\n",
    "\n",
    "save_button.on_click(save_current_figure)\n",
    "\n",
    "display(save_button)"
   ]
  },
  {
   "cell_type": "markdown",
   "metadata": {
    "id": "uPZ2qy1JjMse"
   },
   "source": [
    "# ТЕПЛОВАЯ КАРТА (HEATMAP) КОРРЕЛЯЦИИ\n",
    "Показывает по:\n",
    "- оси х  оценку критиков, если неизвестна, равна нулю\n",
    "- оси у оценку пользователей, если неизвестна, равна нулю\n",
    "- цветовой температуре глобальные продажи, чем синее - тем меньше, чем краснее, тем больше"
   ]
  },
  {
   "cell_type": "code",
   "execution_count": null,
   "metadata": {
    "id": "7ZumDWYqjMse"
   },
   "outputs": [],
   "source": [
    "def plot_correlation_heatmap():\n",
    "    corr_data = data[['Critic_Score', 'User_Score', 'Global_Sales']].copy()\n",
    "    for col in corr_data.columns:\n",
    "        corr_data[col] = pd.to_numeric(corr_data[col], errors='coerce')\n",
    "\n",
    "    corr_matrix = corr_data.corr()\n",
    "\n",
    "    plt.figure(figsize=(5, 4))\n",
    "    sns.heatmap(corr_matrix, annot=True, fmt=\".2f\", cmap='Blues', vmin=-1, vmax=1)\n",
    "    plt.title(\"Тепловая карта корреляций (Critic_Score, User_Score, Global_Sales)\")\n",
    "    plt.show()\n",
    "plot_correlation_heatmap()"
   ]
  },
  {
   "cell_type": "markdown",
   "metadata": {
    "id": "vSZz3SgFjMse"
   },
   "source": [
    "# ИНТЕРАКТИВНЫЕ ВИДЖЕТЫ ДЛЯ ФИЛЬТРАЦИИ\n",
    "Показ данных, отсортированных по году, жанру, платформе;\n",
    "  -  Множественный фильтр по издателю/разработчику и т.д."
   ]
  },
  {
   "cell_type": "code",
   "execution_count": null,
   "metadata": {
    "id": "16WdyvxsjMse"
   },
   "outputs": [],
   "source": [
    "unique_years = sorted([int(y) for y in data['Year'].unique() if str(y).isdigit() and int(y) != -1])\n",
    "unique_years = pd.Series(unique_years)\n",
    "unique_years = unique_years.dropna()\n",
    "unique_years = sorted(unique_years.tolist())\n",
    "unique_genres = sorted(data['Genre'].unique())\n",
    "unique_platforms = sorted(data['Platform'].unique())\n",
    "unique_publishers = sorted(data['Publisher'].unique())\n",
    "unique_devs = sorted(data['Developer'].unique())\n",
    "\n",
    "year_dropdown = widgets.Dropdown(\n",
    "    options=['Все'] + unique_years,\n",
    "    description='Год:',\n",
    "    value='Все'\n",
    ")\n",
    "\n",
    "genre_dropdown = widgets.Dropdown(\n",
    "    options=['Все'] + unique_genres,\n",
    "    description='Жанр:',\n",
    "    value='Все'\n",
    ")\n",
    "\n",
    "platform_dropdown = widgets.Dropdown(\n",
    "    options=['Все'] + unique_platforms,\n",
    "    description='Платформа:',\n",
    "    value='Все'\n",
    ")\n",
    "\n",
    "publisher_select = widgets.SelectMultiple(\n",
    "    options=['Все'] + unique_publishers,\n",
    "    description='Издатели:',\n",
    "    value=['Все']\n",
    ")\n",
    "\n",
    "dev_select = widgets.SelectMultiple(\n",
    "    options=['Все'] + unique_devs,\n",
    "    description='Разработчики:',\n",
    "    value=['Все']\n",
    ")\n",
    "\n",
    "def filter_data(year, genre, platform, publishers, devs) -> pd.DataFrame:\n",
    "    filtered = data.copy()\n",
    "\n",
    "    if year != 'Все':\n",
    "        if not check_existence_in_dataset('Year', year):\n",
    "            print(\"Нет данных по запрошенному году, измените вводимые данные на корректные.\")\n",
    "            return pd.DataFrame()  # Пустой\n",
    "        filtered = filtered[filtered['Year'] == year]\n",
    "\n",
    "    if genre != 'Все':\n",
    "        if not check_existence_in_dataset('Genre', genre):\n",
    "            print(\"Нет данных по запрошенному жанру, измените вводимые данные на корректные.\")\n",
    "            return pd.DataFrame()\n",
    "        filtered = filtered[filtered['Genre'] == genre]\n",
    "\n",
    "    if platform != 'Все':\n",
    "        if not check_existence_in_dataset('Platform', platform):\n",
    "            print(\"Нет данных по запрошенной платформе, измените вводимые данные на корректные.\")\n",
    "            return pd.DataFrame()\n",
    "        filtered = filtered[filtered['Platform'] == platform]\n",
    "\n",
    "    if publishers != ['Все']:\n",
    "        for pub in publishers:\n",
    "            if pub != 'Все' and not check_existence_in_dataset('Publisher', pub):\n",
    "                print(\"Нет данных по запрошенному(ым) издателю(ям), измените вводимые данные на корректные.\")\n",
    "                return pd.DataFrame()\n",
    "        valid_pubs = [p for p in publishers if p != 'Все']\n",
    "        if valid_pubs:\n",
    "            filtered = filtered[filtered['Publisher'].isin(valid_pubs)]\n",
    "\n",
    "    if devs != ['Все']:\n",
    "        for d in devs:\n",
    "            if d != 'Все' and not check_existence_in_dataset('Developer', d):\n",
    "                print(\"Нет данных по запрошенному(ым) разработчику(ам), измените вводимые данные на корректные.\")\n",
    "                return pd.DataFrame()\n",
    "        valid_devs = [d for d in devs if d != 'Все']\n",
    "        if valid_devs:\n",
    "            filtered = filtered[filtered['Developer'].isin(valid_devs)]\n",
    "\n",
    "    return filtered\n",
    "\n",
    "def plot_global_sales_bar(filtered_data: pd.DataFrame):\n",
    "    temp_data = filtered_data.copy()\n",
    "    temp_data['Global_Sales'] = pd.to_numeric(temp_data['Global_Sales'], errors='coerce').fillna(0)\n",
    "\n",
    "    total_sales = temp_data['Global_Sales'].sum()\n",
    "\n",
    "    fig, ax = plt.subplots(figsize=(4, 3))\n",
    "    ax.barh(['Суммарные продажи'], [total_sales], color='gray')\n",
    "    ax.set_title(\"Суммарные глобальные продажи по фильтру\")\n",
    "    ax.set_xlabel(\"Global Sales (млн)\")\n",
    "    for i, v in enumerate([total_sales]):\n",
    "        ax.text(v + 0.1, i, f\"{v:.2f}\", va='center')\n",
    "    plt.show()\n",
    "\n",
    "def on_change_filter(*args):\n",
    "    year_val = year_dropdown.value\n",
    "    genre_val = genre_dropdown.value\n",
    "    platform_val = platform_dropdown.value\n",
    "    publisher_val = list(publisher_select.value)\n",
    "    dev_val = list(dev_select.value)\n",
    "\n",
    "    filtered_data = filter_data(year_val, genre_val, platform_val, publisher_val, dev_val)\n",
    "\n",
    "    if filtered_data.empty:\n",
    "        print(\"Отфильтрованные данные пусты. Проверьте корректность введённых фильтров.\")\n",
    "    else:\n",
    "        print(f\"Количество строк в отфильтрованных данных: {len(filtered_data)}\")\n",
    "        print_statistics(filtered_data)\n",
    "        plot_global_sales_bar(filtered_data)\n",
    "\n",
    "year_dropdown.observe(on_change_filter, 'value')\n",
    "genre_dropdown.observe(on_change_filter, 'value')\n",
    "platform_dropdown.observe(on_change_filter, 'value')\n",
    "publisher_select.observe(on_change_filter, 'value')\n",
    "dev_select.observe(on_change_filter, 'value')\n",
    "\n",
    "display(year_dropdown, genre_dropdown, platform_dropdown, publisher_select, dev_select)"
   ]
  },
  {
   "cell_type": "markdown",
   "metadata": {
    "id": "Hd_sLGVxjMse"
   },
   "source": [
    "# Вывод топ игр, расчитанного по количеству отправленных копий, которые отсортированны по жанру.\n",
    "Пользователь задает сколько игр будет в таблице, после выбирает по какому жанру он бы хотел увидеть статистику. Таблица регулируется в размере в зависимости от количества игр в топе. После этого пользователь выбирает из списка жанров тот, который ему интересен."
   ]
  },
  {
   "cell_type": "code",
   "execution_count": null,
   "metadata": {
    "id": "EriTumJFjMse"
   },
   "outputs": [],
   "source": [
    "num_top = int(input(\"Введите, сколько вы хотите увидеть значений в топе: \"))\n",
    "if num_top <= 30:\n",
    "  size_table = 1\n",
    "elif num_top <= 60:\n",
    "  size_table = 2\n",
    "elif num_top <= 100:\n",
    "  size_table = 3\n",
    "else:\n",
    "  size_table = 6\n",
    "\n",
    "genres_table = data['Genre'].unique()\n",
    "print(\"Доступные жанры:\")\n",
    "for i, genre in enumerate(genres_table):\n",
    "    print(f\"{i + 1}. {genre}\")\n",
    "\n",
    "genre_numb = int(input(\"Выберите номер жанра, по которому вы хотите получить статистику: \")) - 1\n",
    "gen = genres_table[genre_numb]\n",
    "\n",
    "filtered_data = data[data['Genre'] == gen]\n",
    "filtered_data['Total_Shipped'] = pd.to_numeric(filtered_data['Total_Shipped'], errors='coerce')\n",
    "top = filtered_data.sort_values(by='Total_Shipped', ascending=False).head(num_top)\n",
    "total = top['Total_Shipped']\n",
    "names = top['Name']\n",
    "plt.bar(names, total)\n",
    "plt.xlabel(\"Игры\")\n",
    "plt.ylabel(\"Сколько миллионов продано\")\n",
    "plt.title(f\"Топ {num_top} продаваемых игр\")\n",
    "plt.xticks(rotation=90, fontsize=10)\n",
    "plt.subplots_adjust(bottom=0.25, left=0.1, right=size_table, top=0.9)\n",
    "plt.show()"
   ]
  },
  {
   "cell_type": "markdown",
   "metadata": {
    "id": "Oj-ZWEYpjMse"
   },
   "source": [
    "Построение графика глобальных продаж за определенный год, отсортированного по жанрам.\n",
    "-\n",
    "Получение года выпуска игры от пользователя, который позволяет позже получить данные за тот год, который хочет пользователь, выборка данных по запрошенному году, показ глобальных продаж игр выпущенных за указанный год, отсортированные по основному жанру игры."
   ]
  },
  {
   "cell_type": "code",
   "execution_count": null,
   "metadata": {
    "id": "LzqT3UcojMsf",
    "outputId": "b88590cb-81a4-4dab-d0fd-e24048cdc66a"
   },
   "outputs": [],
   "source": [
    "current_year = datetime.now().year\n",
    "\n",
    "while True:\n",
    "    try:\n",
    "        year = int(input(\"Введите год для анализа (например, 2010): \"))\n",
    "\n",
    "        if 1970 <= year <= current_year:\n",
    "            print(year)\n",
    "            break\n",
    "        else:\n",
    "            print(\"Год не верен. Пожалйуста, введите год в актуальном диапазоне, начиная с 1970, до текущего включительно.\")\n",
    "    except ValueError:\n",
    "        print(\"Пожалуйста, введите год в числовом формате.\")"
   ]
  },
  {
   "cell_type": "code",
   "execution_count": null,
   "metadata": {
    "id": "L4oGw6VcjMsf"
   },
   "outputs": [],
   "source": [
    "filtered_data = data[data[\"Year\"] == year]\n",
    "\n",
    "if filtered_data.empty:\n",
    "    print(f\"Нет данных за {year} год.\")\n",
    "else:\n",
    "    filtered_data['Global_Sales'] = pd.to_numeric(filtered_data['Global_Sales'], errors='coerce')\n",
    "    sorted_data = filtered_data.groupby(\"Genre\")[\"Global_Sales\"].sum().sort_values(ascending=False)\n",
    "\n",
    "    \n",
    "    print(f\"\\nПроданные игры, вышедшие в {year} году (отсортированные по жанрам, по убыванию):\")\n",
    "    print(sorted_data)\n",
    "\n",
    "\n",
    "    plt.figure(figsize=(10, 6))\n",
    "    sns.barplot(x=sorted_data.index, y=sorted_data.values, ci=None)\n",
    "    plt.title(f\"Продажи игр, вышедших в {year} году, отсортированные по жанрам в порядке убывания\")\n",
    "    plt.xlabel(\"Жанры\")\n",
    "    plt.ylabel(\"Продажи (млн копий)\")\n",
    "    plt.xticks(rotation=45)\n",
    "    plt.show()\n"
   ]
  },
  {
   "cell_type": "markdown",
   "metadata": {
    "id": "iC0ZtMEOjMsi"
   },
   "source": [
    "# Добавление в данных в базу данных"
   ]
  },
  {
   "cell_type": "code",
   "execution_count": null,
   "metadata": {
    "id": "QwyV4tY5jMsi"
   },
   "outputs": [],
   "source": [
    "def check_empty_string(string):\n",
    "  if not string:  # Проверка на пустоту строки\n",
    "    return \"неизвестно\"\n",
    "  else:\n",
    "    return string\n",
    "def new_row_create(Name, Genre, ESRB_Rating, Platform, Publisher, Developer, Critic_Score, User_Score, Total_Shipped, Global_Sales, NA_Sales, PAL_Sales, JP_Sales, Other_Sales, Year):\n",
    "  global data\n",
    "  new_row = {\n",
    "      'Rank': len(data) + 1,\n",
    "      'Name': Name,\n",
    "      'Genre': Genre,\n",
    "      'ESRB_Rating': ESRB_Rating,\n",
    "      'Platform': Platform,\n",
    "      'Publisher': Publisher,\n",
    "      'Developer': Developer,\n",
    "      'Critic_Score': Critic_Score,\n",
    "      'User_Score': User_Score,\n",
    "      'Total_Shipped': Total_Shipped,\n",
    "      'Global_Sales': Global_Sales,\n",
    "      'NA_Sales': NA_Sales,\n",
    "      'PAL_Sales': PAL_Sales,\n",
    "      'JP_Sales': JP_Sales,\n",
    "      'Other_Sales': Other_Sales,\n",
    "      'Year': Year\n",
    "  }\n",
    "  data = pd.concat([data, pd.DataFrame([new_row])], ignore_index=True)\n",
    "# data.info()\n",
    "# data.head()\n",
    "# data[data['Name'] == 'SSSSS']\n",
    "# data = pd.concat([data, pd.DataFrame([new_row])], ignore_index=True)\n",
    "while True:\n",
    "  Name = input(\"Введите название игры: \")\n",
    "  if not Name:\n",
    "    print(\"У игры обязетельно должно быть название. Введите название еще раз.\")\n",
    "  else:\n",
    "    break\n",
    "genres_table = data['Genre'].unique()\n",
    "while True:\n",
    "  print(\"Доступные жанры:\")\n",
    "  for i, genre in enumerate(genres_table):\n",
    "      print(f\"{i + 1}. {genre}\")\n",
    "  Genre = input(\"Введите жанр игры: \")\n",
    "\n",
    "  if Genre in genres_table:\n",
    "      print(f\"Выбранный жанр: {Genre}\")\n",
    "      break  # Выход из цикла, если жанр валидный\n",
    "  else:\n",
    "      print(\"Введённый жанр не найден в списке доступных. Пожалуйста, выберите из списка.\")\n",
    "\n",
    "ESRB_Rating = check_empty_string(input(\"Введите ESRB рейтинг игры: \"))\n",
    "Platform = check_empty_string(input(\"Введите платформу игры: \"))\n",
    "Publisher = check_empty_string(input(\"Введите издателя игры: \"))\n",
    "Developer = check_empty_string(input(\"Введите разработчика игры: \"))\n",
    "Critic_Score = check_empty_string(input(\"Введите оценку критиков: \"))\n",
    "User_Score = check_empty_string(input(\"Введите оценку пользователей: \"))\n",
    "Total_Shipped = check_empty_string(input(\"Введите количество копий, проданных: \"))\n",
    "Global_Sales = check_empty_string(input(\"Введите глобальные продажи: \"))\n",
    "NA_Sales = check_empty_string(input(\"Введите продажи в Северной Америке: \"))\n",
    "PAL_Sales = check_empty_string(input(\"Введите продажи в Европе, Африку, Южной Америке, Океании и Азии: \"))\n",
    "JP_Sales = check_empty_string(input(\"Введите продажи в Японии: \"))\n",
    "Other_Sales = check_empty_string(input(\"Введите другие продажи: \"))\n",
    "Year = check_empty_string(input(\"Введите год выпуска игры: \"))\n",
    "\n",
    "# genres_table = data['Genre'].unique()\n",
    "# print(\"Доступные жанры:\")\n",
    "# for i, genre in enumerate(genres_table):\n",
    "#     print(f\"{i + 1}. {genre}\")\n",
    "new_row_create(Name, Genre, ESRB_Rating, Platform, Publisher, Developer, Critic_Score, User_Score, Total_Shipped, Global_Sales, NA_Sales, PAL_Sales, JP_Sales, Other_Sales, Year)\n",
    "# new_row_create('AAAA', 'Action', 'E', 'PS2', 'Electronic Arts', 'Electronic Arts', 7, 5, 3, 1, 2, 2, 0.2, 3, 2024)\n",
    "data[data['Name'] == Name]"
   ]
  }
 ],
 "metadata": {
  "colab": {
   "provenance": []
  },
  "kernelspec": {
   "display_name": "Python 3",
   "language": "python",
   "name": "python3"
  },
  "language_info": {
   "codemirror_mode": {
    "name": "ipython",
    "version": 3
   },
   "file_extension": ".py",
   "mimetype": "text/x-python",
   "name": "python",
   "nbconvert_exporter": "python",
   "pygments_lexer": "ipython3",
   "version": "3.12.6"
  }
 },
 "nbformat": 4,
 "nbformat_minor": 0
}
